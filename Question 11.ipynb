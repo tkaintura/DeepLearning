{
 "cells": [
  {
   "cell_type": "code",
   "execution_count": 3,
   "id": "f9fed261",
   "metadata": {},
   "outputs": [],
   "source": [
    "import numpy as np\n",
    "import pandas as pd\n",
    "import torch\n",
    "import torch.nn.functional as F"
   ]
  },
  {
   "cell_type": "markdown",
   "id": "3b09b57f",
   "metadata": {},
   "source": [
    "# Question 11"
   ]
  },
  {
   "cell_type": "code",
   "execution_count": 4,
   "id": "1dd7b1d9",
   "metadata": {},
   "outputs": [],
   "source": [
    "inputs = torch.randn(1, 3, 3, 4)"
   ]
  },
  {
   "cell_type": "code",
   "execution_count": 5,
   "id": "eefee67d",
   "metadata": {},
   "outputs": [
    {
     "data": {
      "text/plain": [
       "tensor([[[[ 2.3302, -0.4961, -0.9599, -0.1696],\n",
       "          [ 1.1285,  0.9904, -1.7413,  2.4007],\n",
       "          [-0.6656,  0.0396, -1.3284, -0.7944]],\n",
       "\n",
       "         [[-0.0307, -0.8407, -0.1530, -2.0471],\n",
       "          [ 0.9452,  0.5719, -0.3207,  0.0379],\n",
       "          [-2.2212, -0.8241, -0.7918,  1.2011]],\n",
       "\n",
       "         [[-0.0440, -0.8063,  0.4764,  0.2726],\n",
       "          [-1.3686,  2.4500, -1.3746, -0.9681],\n",
       "          [-0.2047, -0.1038,  0.2047, -1.7212]]]])"
      ]
     },
     "execution_count": 5,
     "metadata": {},
     "output_type": "execute_result"
    }
   ],
   "source": [
    "inputs"
   ]
  },
  {
   "cell_type": "code",
   "execution_count": 6,
   "id": "42ce0548",
   "metadata": {},
   "outputs": [],
   "source": [
    "x_max_pool = torch.max(inputs, dim=-1)\n",
    "x_mean_pool = torch.mean(inputs, dim=-1)"
   ]
  },
  {
   "cell_type": "code",
   "execution_count": 7,
   "id": "549075be",
   "metadata": {},
   "outputs": [
    {
     "data": {
      "text/plain": [
       "torch.return_types.max(\n",
       "values=tensor([[[ 2.3302,  2.4007,  0.0396],\n",
       "         [-0.0307,  0.9452,  1.2011],\n",
       "         [ 0.4764,  2.4500,  0.2047]]]),\n",
       "indices=tensor([[[0, 3, 1],\n",
       "         [0, 0, 3],\n",
       "         [2, 1, 2]]]))"
      ]
     },
     "execution_count": 7,
     "metadata": {},
     "output_type": "execute_result"
    }
   ],
   "source": [
    "x_max_pool"
   ]
  },
  {
   "cell_type": "code",
   "execution_count": 8,
   "id": "1d1f46db",
   "metadata": {},
   "outputs": [
    {
     "data": {
      "text/plain": [
       "tensor([[[ 0.1762,  0.6946, -0.6872],\n",
       "         [-0.7679,  0.3086, -0.6590],\n",
       "         [-0.0253, -0.3153, -0.4562]]])"
      ]
     },
     "execution_count": 8,
     "metadata": {},
     "output_type": "execute_result"
    }
   ],
   "source": [
    "x_mean_pool"
   ]
  }
 ],
 "metadata": {
  "kernelspec": {
   "display_name": "Python 3 (ipykernel)",
   "language": "python",
   "name": "python3"
  },
  "language_info": {
   "codemirror_mode": {
    "name": "ipython",
    "version": 3
   },
   "file_extension": ".py",
   "mimetype": "text/x-python",
   "name": "python",
   "nbconvert_exporter": "python",
   "pygments_lexer": "ipython3",
   "version": "3.9.12"
  }
 },
 "nbformat": 4,
 "nbformat_minor": 5
}
