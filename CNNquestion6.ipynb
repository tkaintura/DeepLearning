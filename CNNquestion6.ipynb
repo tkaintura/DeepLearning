{
 "cells": [
  {
   "cell_type": "code",
   "execution_count": 1,
   "id": "2d0a41f5",
   "metadata": {},
   "outputs": [],
   "source": [
    "import torch\n",
    "import torch.nn.functional as F\n",
    "from torch import nn"
   ]
  },
  {
   "cell_type": "code",
   "execution_count": 19,
   "id": "3b40179b",
   "metadata": {},
   "outputs": [],
   "source": [
    "class Conv2D(nn.Module):\n",
    "    \n",
    "    def __init__(self, in_channels, out_channels, kernel_size=(3,3), stride=1, padding=1):\n",
    "        super(Conv2D, self).__init__()\n",
    "        \n",
    "        self.in_channels = in_channels\n",
    "        self.out_channels = out_channels\n",
    "        self.kernel_size = kernel_size\n",
    "        self.stride = stride\n",
    "        self.padding = padding\n",
    "        \n",
    "        self.conv = nn.Conv2d(in_channels, out_channels, kernel_size, stride, padding)\n",
    "        \n",
    "    def forward(self, input_batch):\n",
    "        b, c, h, w = input_batch.size()\n",
    "        x = self.conv(input_batch)\n",
    "        return x"
   ]
  },
  {
   "cell_type": "code",
   "execution_count": 20,
   "id": "e7e8c113",
   "metadata": {},
   "outputs": [],
   "source": [
    "conv = Conv2D(in_channels = 3, out_channels = 16)\n",
    "input_batch = torch.randn(16, 3, 32, 32)\n",
    "output_batch = conv(input_batch)"
   ]
  },
  {
   "cell_type": "code",
   "execution_count": 23,
   "id": "13173901",
   "metadata": {},
   "outputs": [
    {
     "data": {
      "text/plain": [
       "torch.Size([16, 16, 32, 32])"
      ]
     },
     "execution_count": 23,
     "metadata": {},
     "output_type": "execute_result"
    }
   ],
   "source": [
    "output_batch.shape"
   ]
  },
  {
   "cell_type": "code",
   "execution_count": 26,
   "id": "aeffc398",
   "metadata": {},
   "outputs": [],
   "source": [
    "class Conv2DFunc(torch.autograd.Function):\n",
    "    \n",
    "    @staticmethod\n",
    "    def forward(ctx, input_batch, kernel, stride=1, padding=1):\n",
    "        \n",
    "        # store objects for the backward\n",
    "        ctx.save_for_backward(input_batch)\n",
    "        ctx.save_for_backward(kernel)\n",
    "        \n",
    "        output_batch = F.conv2d(input_batch, kernel, stride=stride, padding=padding)\n",
    "        \n",
    "        return output_batch\n",
    "    \n",
    "    \n",
    "    @staticmethod\n",
    "    def backward(ctx, grad_output):\n",
    "        \n",
    "        # retrieve stored objects\n",
    "        input, kernel = ctx.saved_tensors\n",
    "        \n",
    "        input_batch_grad = kernel_grad = None\n",
    "        \n",
    "        input_batch_grad = grad_output.mm(kernel)\n",
    "        kernel_grad = grad_output.t().mm(input)\n",
    "        \n",
    "        return input_batch_grad, kernel_grad, None, None\n",
    "        \n",
    "        "
   ]
  },
  {
   "cell_type": "code",
   "execution_count": 64,
   "id": "4bb25007",
   "metadata": {},
   "outputs": [],
   "source": [
    "input_batch = torch.randn(16, 3, 32, 32)\n",
    "kernel = torch.randn(16, 3, 3, 3)\n",
    "out = Conv2DFunc.apply(input_batch, kernel)"
   ]
  },
  {
   "cell_type": "code",
   "execution_count": 65,
   "id": "df8d7fee",
   "metadata": {},
   "outputs": [
    {
     "data": {
      "text/plain": [
       "torch.Size([16, 16, 32, 32])"
      ]
     },
     "execution_count": 65,
     "metadata": {},
     "output_type": "execute_result"
    }
   ],
   "source": [
    "out.shape"
   ]
  }
 ],
 "metadata": {
  "kernelspec": {
   "display_name": "Python 3 (ipykernel)",
   "language": "python",
   "name": "python3"
  },
  "language_info": {
   "codemirror_mode": {
    "name": "ipython",
    "version": 3
   },
   "file_extension": ".py",
   "mimetype": "text/x-python",
   "name": "python",
   "nbconvert_exporter": "python",
   "pygments_lexer": "ipython3",
   "version": "3.9.15"
  }
 },
 "nbformat": 4,
 "nbformat_minor": 5
}
