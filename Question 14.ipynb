{
 "cells": [
  {
   "cell_type": "code",
   "execution_count": 21,
   "id": "2d2370a6",
   "metadata": {},
   "outputs": [],
   "source": [
    "import torch\n",
    "import torchvision\n",
    "from torchvision import datasets, transforms\n",
    "from torch.utils.data.sampler import SubsetRandomSampler\n",
    "import torch\n",
    "from torch.utils.data import Dataset, DataLoader\n",
    "import numpy as np\n",
    "import torch.nn as nn\n",
    "import torch.nn.functional as F\n",
    "import torch.optim as optim\n",
    "from torch.autograd import Variable\n",
    "import pandas as pd\n",
    "import matplotlib.pyplot as plt"
   ]
  },
  {
   "cell_type": "code",
   "execution_count": 2,
   "id": "1e3cb0c0",
   "metadata": {},
   "outputs": [],
   "source": [
    "# Create a custom collate function\n",
    "def collate_fn(data):\n",
    "    # Initialize empty tensors for each resolution\n",
    "    resolution1_tensor = []\n",
    "    resolution2_tensor = []\n",
    "    resolution3_tensor = []\n",
    "    \n",
    "    # Traverse through each image in the data\n",
    "    for image in data:\n",
    "        transformer = transforms.ToPILImage()\n",
    "        transformer1 = transforms.ToTensor()\n",
    "        image_tensor = transformer1(transformer(image[0]))\n",
    "        # Check the resolution of the image\n",
    "        if (image_tensor.shape[1] == resolution1 & image_tensor.shape[2] == resolution1):\n",
    "            resolution1_tensor.append(image)\n",
    "#             resolution1_tensor = torch.cat((resolution1_tensor, image_tensor), 0)\n",
    "        elif (image_tensor.shape[1] == resolution2 & image_tensor.shape[2] == resolution2):\n",
    "            resolution2_tensor.append(image)\n",
    "#             resolution2_tensor = torch.cat((resolution2_tensor, image_tensor), 0)\n",
    "        elif (image_tensor.shape[1] == resolution3 & image_tensor.shape[2] == resolution3):\n",
    "            resolution3_tensor.append(image)\n",
    "#             resolution3_tensor = torch.cat((resolution3_tensor, image_tensor), 0)\n",
    "            \n",
    "    # Return the tensors for each resolution\n",
    "    return resolution1_tensor, resolution2_tensor, resolution3_tensor\n",
    "\n",
    "# Define the resolutions for the images\n",
    "resolution1 = 32\n",
    "resolution2 = 48\n",
    "resolution3 = 64"
   ]
  },
  {
   "cell_type": "code",
   "execution_count": 3,
   "id": "68264829",
   "metadata": {},
   "outputs": [],
   "source": [
    "def get_train_valid_loader(data_dir,\n",
    "                           batch_size,\n",
    "                           random_seed,\n",
    "                           augment=False,\n",
    "                           valid_size=0.2,\n",
    "                           shuffle=True,\n",
    "                           show_sample=False,\n",
    "                           num_workers=1,\n",
    "                           pin_memory=True):\n",
    "    \"\"\"\n",
    "    ------\n",
    "    - data_dir: path directory to the dataset.\n",
    "    - batch_size: how many samples per batch to load.\n",
    "    - augment: whether to apply the data augmentation scheme\n",
    "      mentioned in the paper. Only applied on the train split.\n",
    "    - random_seed: fix seed for reproducibility.\n",
    "    - valid_size: percentage split of the training set used for\n",
    "      the validation set. Should be a float in the range [0, 1].\n",
    "    - shuffle: whether to shuffle the train/validation indices.\n",
    "    - show_sample: plot 9x9 sample grid of the dataset.\n",
    "    - num_workers: number of subprocesses to use when loading the dataset.\n",
    "    - pin_memory: whether to copy tensors into CUDA pinned memory. Set it to\n",
    "      True if using GPU.\n",
    "    Returns\n",
    "    -------\n",
    "    - train_loader: training set iterator.\n",
    "    - valid_loader: validation set iterator.\n",
    "    \"\"\"\n",
    "    error_msg = \"[!] valid_size should be in the range [0, 1].\"\n",
    "    assert ((valid_size >= 0) and (valid_size <= 1)), error_msg\n",
    "\n",
    "    normalize = transforms.Normalize((0.1307,), (0.3081,))  # MNIST\n",
    "\n",
    "    # define transforms\n",
    "    valid_transform = transforms.Compose([\n",
    "            transforms.Grayscale(num_output_channels=1),\n",
    "#             transforms.Resize((28,28)),\n",
    "            transforms.ToTensor(),\n",
    "            normalize\n",
    "        ])\n",
    "    if augment:\n",
    "        train_transform = transforms.Compose([\n",
    "            transforms.Grayscale(num_output_channels=1),\n",
    "            transforms.RandomCrop(32, padding=4),\n",
    "            transforms.RandomHorizontalFlip(),\n",
    "#             transforms.Resize((28,28)),\n",
    "            transforms.ToTensor(),\n",
    "            normalize\n",
    "        ])\n",
    "    else:\n",
    "        train_transform = transforms.Compose([\n",
    "            transforms.Grayscale(num_output_channels=1),\n",
    "#             transforms.Resize((28,28)),\n",
    "            transforms.ToTensor(),\n",
    "            normalize\n",
    "        ])\n",
    "\n",
    "    # load the dataset\n",
    "    train_dataset = datasets.ImageFolder(root=data_dir,transform=train_transform)\n",
    "    valid_dataset = datasets.ImageFolder(root=data_dir,transform=valid_transform)\n",
    "\n",
    "    num_train = len(train_dataset)\n",
    "    indices = list(range(num_train))\n",
    "    split = int(np.floor(valid_size * num_train))\n",
    "\n",
    "    if shuffle == True:\n",
    "        np.random.seed(random_seed)\n",
    "        np.random.shuffle(indices)\n",
    "\n",
    "    train_idx, valid_idx = indices[split:], indices[:split]\n",
    "\n",
    "    train_sampler = SubsetRandomSampler(train_idx)\n",
    "    valid_sampler = SubsetRandomSampler(valid_idx)\n",
    "\n",
    "    train_loader = torch.utils.data.DataLoader(train_dataset, \n",
    "                    batch_size=batch_size, sampler=train_sampler, \n",
    "                    num_workers=num_workers, pin_memory=pin_memory,collate_fn=collate_fn)\n",
    "\n",
    "    valid_loader = torch.utils.data.DataLoader(valid_dataset, \n",
    "                    batch_size=batch_size, sampler=valid_sampler, \n",
    "                    num_workers=num_workers, pin_memory=pin_memory,collate_fn=collate_fn)\n",
    "\n",
    "\n",
    "    # visualize some images\n",
    "    if show_sample:\n",
    "        sample_loader = torch.utils.data.DataLoader(train_dataset, \n",
    "                                                    batch_size=batch_size, \n",
    "                                                    shuffle=shuffle, \n",
    "                                                    num_workers=num_workers,\n",
    "                                                    pin_memory=pin_memory,collate_fn=collate_fn)\n",
    "        data_iter = iter(sample_loader)\n",
    "        images, labels = data_iter.next()\n",
    "        X = images.numpy()\n",
    "        plot_images(X, labels)\n",
    "\n",
    "    return (train_loader, valid_loader)"
   ]
  },
  {
   "cell_type": "code",
   "execution_count": 4,
   "id": "74136db7",
   "metadata": {},
   "outputs": [],
   "source": [
    "def get_test_loader(data_dir, \n",
    "                    batch_size,\n",
    "                    shuffle=True,\n",
    "                    num_workers=1,\n",
    "                    pin_memory=True):\n",
    "    \"\"\"\n",
    "    Utility function for loading and returning a multi-process \n",
    "    test iterator over the MNIST dataset.\n",
    "    If using CUDA, num_workers should be set to 1 and pin_memory to True.\n",
    "    Params\n",
    "    ------\n",
    "    - data_dir: path directory to the dataset.\n",
    "    - batch_size: how many samples per batch to load.\n",
    "    - shuffle: whether to shuffle the dataset after every epoch.\n",
    "    - num_workers: number of subprocesses to use when loading the dataset.\n",
    "    - pin_memory: whether to copy tensors into CUDA pinned memory. Set it to\n",
    "      True if using GPU.\n",
    "    Returns\n",
    "    -------\n",
    "    - data_loader: test set iterator.\n",
    "    \"\"\"\n",
    "    normalize = transforms.Normalize((0.1307,), (0.3081,))  # MNIST\n",
    "\n",
    "    # define transform\n",
    "    transform = transforms.Compose([\n",
    "        transforms.Grayscale(num_output_channels=1),\n",
    "#         transforms.Resize((28,28)),\n",
    "        transforms.ToTensor(),\n",
    "        normalize\n",
    "    ])\n",
    "\n",
    "    dataset = datasets.ImageFolder(data_dir,transform=transform)\n",
    "\n",
    "    data_loader = torch.utils.data.DataLoader(dataset, \n",
    "                                              batch_size=batch_size, \n",
    "                                              shuffle=shuffle, \n",
    "                                              num_workers=num_workers,\n",
    "                                              pin_memory=pin_memory,collate_fn=collate_fn)\n",
    "\n",
    "    return data_loader"
   ]
  },
  {
   "cell_type": "code",
   "execution_count": 5,
   "id": "7a031913",
   "metadata": {
    "scrolled": true
   },
   "outputs": [],
   "source": [
    "train_loader, valid_loader = get_train_valid_loader('mnist-varres/train/..',\n",
    "                           batch_size = 16,\n",
    "                           random_seed = 100,\n",
    "                           augment=False,\n",
    "                           valid_size=1/6,\n",
    "                           shuffle=True,\n",
    "                           show_sample=False,\n",
    "                           num_workers=0,\n",
    "                           pin_memory=True)"
   ]
  },
  {
   "cell_type": "code",
   "execution_count": 6,
   "id": "9ec6cb09",
   "metadata": {},
   "outputs": [],
   "source": [
    "test_loader = get_test_loader('mnist-varres/test/..', \n",
    "                    batch_size=10,\n",
    "                    shuffle=True,\n",
    "                    num_workers=0,\n",
    "                    pin_memory=True)"
   ]
  },
  {
   "cell_type": "code",
   "execution_count": 7,
   "id": "2f5baf18",
   "metadata": {},
   "outputs": [],
   "source": [
    "loaders = {'train': train_loader,\n",
    "          'test': test_loader,\n",
    "          'val': valid_loader} "
   ]
  },
  {
   "cell_type": "code",
   "execution_count": 8,
   "id": "1a334bb9",
   "metadata": {},
   "outputs": [],
   "source": [
    "# tensor1, tensor2, tensor3 = next(iter(loaders['train']))"
   ]
  },
  {
   "cell_type": "code",
   "execution_count": 9,
   "id": "0e3641a0",
   "metadata": {},
   "outputs": [],
   "source": [
    "class CNN(nn.Module):\n",
    "    def __init__(self, input_channels, num_classes, N):\n",
    "        super(CNN, self).__init__()\n",
    "\n",
    "        self.conv1 = nn.Conv2d(input_channels, out_channels=16, kernel_size=3, stride=1, padding=1)\n",
    "        self.relu1 = nn.ReLU()\n",
    "        self.maxpool1 = nn.MaxPool2d(2)\n",
    "\n",
    "        self.conv2 = nn.Conv2d(16, 32, kernel_size=3, stride=1, padding=1)\n",
    "        self.relu2 = nn.ReLU()\n",
    "        self.maxpool2 = nn.MaxPool2d(2)\n",
    "\n",
    "        self.conv3 = nn.Conv2d(32, N, kernel_size=3, stride=1, padding=1)\n",
    "        self.relu3 = nn.ReLU()\n",
    "        self.maxpool3 = nn.MaxPool2d(2)\n",
    "\n",
    "        self.global_pool = nn.AdaptiveAvgPool2d(1)\n",
    "#         self.global_pool = nn.AdaptiveMaxPool2d(1)\n",
    "        self.linear = nn.Linear(N, num_classes)\n",
    "\n",
    "    def forward(self, x):\n",
    "        x = self.conv1(x)\n",
    "        x = self.relu1(x)\n",
    "        x = self.maxpool1(x)\n",
    "\n",
    "        x = self.conv2(x)\n",
    "        x = self.relu2(x)\n",
    "        x = self.maxpool2(x)\n",
    "\n",
    "        x = self.conv3(x)\n",
    "        x = self.relu3(x)\n",
    "        x = self.maxpool3(x)\n",
    "\n",
    "        x = self.global_pool(x)\n",
    "        x = x.view(x.size(0),-1)\n",
    "#         x = torch.max(torch.max(x,-1).values,-1)[0]\n",
    "        x = self.linear(x)\n",
    "\n",
    "        return x"
   ]
  },
  {
   "cell_type": "code",
   "execution_count": 10,
   "id": "c1a18c97",
   "metadata": {},
   "outputs": [
    {
     "name": "stdout",
     "output_type": "stream",
     "text": [
      "CNN(\n",
      "  (conv1): Conv2d(1, 16, kernel_size=(3, 3), stride=(1, 1), padding=(1, 1))\n",
      "  (relu1): ReLU()\n",
      "  (maxpool1): MaxPool2d(kernel_size=2, stride=2, padding=0, dilation=1, ceil_mode=False)\n",
      "  (conv2): Conv2d(16, 32, kernel_size=(3, 3), stride=(1, 1), padding=(1, 1))\n",
      "  (relu2): ReLU()\n",
      "  (maxpool2): MaxPool2d(kernel_size=2, stride=2, padding=0, dilation=1, ceil_mode=False)\n",
      "  (conv3): Conv2d(32, 32, kernel_size=(3, 3), stride=(1, 1), padding=(1, 1))\n",
      "  (relu3): ReLU()\n",
      "  (maxpool3): MaxPool2d(kernel_size=2, stride=2, padding=0, dilation=1, ceil_mode=False)\n",
      "  (global_pool): AdaptiveAvgPool2d(output_size=1)\n",
      "  (linear): Linear(in_features=32, out_features=10, bias=True)\n",
      ")\n"
     ]
    }
   ],
   "source": [
    "cnn = CNN(1,10,32)\n",
    "print(cnn)"
   ]
  },
  {
   "cell_type": "code",
   "execution_count": 11,
   "id": "60cb2e8e",
   "metadata": {},
   "outputs": [],
   "source": [
    "# params = list(cnn.parameters())\n",
    "# print(len(params))\n",
    "# print(params[0].size()) "
   ]
  },
  {
   "cell_type": "code",
   "execution_count": 12,
   "id": "5046c970",
   "metadata": {},
   "outputs": [],
   "source": [
    "# input = torch.randn(1, 1, 28,28)\n",
    "# out = cnn(input)\n",
    "# print(out)"
   ]
  },
  {
   "cell_type": "markdown",
   "id": "baece28d",
   "metadata": {},
   "source": [
    "### Loss Function and Optimizer"
   ]
  },
  {
   "cell_type": "code",
   "execution_count": 25,
   "id": "6710e40b",
   "metadata": {},
   "outputs": [],
   "source": [
    "criterion = nn.CrossEntropyLoss()\n",
    "optimizer = optim.Adam(cnn.parameters(), lr=0.0001)"
   ]
  },
  {
   "cell_type": "code",
   "execution_count": 28,
   "id": "67898666",
   "metadata": {},
   "outputs": [
    {
     "name": "stdout",
     "output_type": "stream",
     "text": [
      "Epoch [1/10], Step [1000/3646], Loss: 0.1487, Acc: 85.5187\n",
      "Epoch [1/10], Step [2000/3646], Loss: 0.1615, Acc: 85.6688\n",
      "Epoch [1/10], Step [3000/3646], Loss: 0.8577, Acc: 85.7562\n",
      "Accuracy of the network on the 10000 test images: 85.35958904109589 %\n",
      "Epoch [2/10], Step [1000/3646], Loss: 0.5877, Acc: 85.8763\n",
      "Epoch [2/10], Step [2000/3646], Loss: 0.1656, Acc: 85.8163\n",
      "Epoch [2/10], Step [3000/3646], Loss: 0.1546, Acc: 85.8044\n",
      "Accuracy of the network on the 10000 test images: 85.37243150684931 %\n",
      "Epoch [3/10], Step [1000/3646], Loss: 0.1656, Acc: 85.7845\n",
      "Epoch [3/10], Step [2000/3646], Loss: 0.6463, Acc: 85.7471\n",
      "Epoch [3/10], Step [3000/3646], Loss: 0.4991, Acc: 85.7584\n",
      "Accuracy of the network on the 10000 test images: 85.4337899543379 %\n",
      "Epoch [4/10], Step [1000/3646], Loss: 0.4486, Acc: 85.7791\n",
      "Epoch [4/10], Step [2000/3646], Loss: 0.1609, Acc: 85.7972\n",
      "Epoch [4/10], Step [3000/3646], Loss: 0.1832, Acc: 85.7924\n",
      "Accuracy of the network on the 10000 test images: 85.54580479452055 %\n",
      "Epoch [5/10], Step [1000/3646], Loss: 0.1612, Acc: 85.8011\n",
      "Epoch [5/10], Step [2000/3646], Loss: 0.5878, Acc: 85.7928\n",
      "Epoch [5/10], Step [3000/3646], Loss: 0.7297, Acc: 85.7935\n",
      "Accuracy of the network on the 10000 test images: 85.53424657534246 %\n",
      "Epoch [6/10], Step [1000/3646], Loss: 0.6549, Acc: 85.7947\n",
      "Epoch [6/10], Step [2000/3646], Loss: 0.3684, Acc: 85.7702\n",
      "Epoch [6/10], Step [3000/3646], Loss: 0.1587, Acc: 85.7825\n",
      "Accuracy of the network on the 10000 test images: 85.51797945205479 %\n",
      "Epoch [7/10], Step [1000/3646], Loss: 0.5139, Acc: 85.7736\n",
      "Epoch [7/10], Step [2000/3646], Loss: 0.1600, Acc: 85.7632\n",
      "Epoch [7/10], Step [3000/3646], Loss: 0.1603, Acc: 85.7797\n",
      "Accuracy of the network on the 10000 test images: 85.60420743639922 %\n",
      "Epoch [8/10], Step [1000/3646], Loss: 0.1673, Acc: 85.7684\n",
      "Epoch [8/10], Step [2000/3646], Loss: 0.1614, Acc: 85.7400\n",
      "Epoch [8/10], Step [3000/3646], Loss: 0.5027, Acc: 85.7454\n",
      "Accuracy of the network on the 10000 test images: 85.63891267123287 %\n",
      "Epoch [9/10], Step [1000/3646], Loss: 0.4106, Acc: 85.7241\n",
      "Epoch [9/10], Step [2000/3646], Loss: 0.5045, Acc: 85.7324\n",
      "Epoch [9/10], Step [3000/3646], Loss: 0.4991, Acc: 85.7179\n",
      "Accuracy of the network on the 10000 test images: 85.587899543379 %\n",
      "Epoch [10/10], Step [1000/3646], Loss: 0.4464, Acc: 85.7202\n",
      "Epoch [10/10], Step [2000/3646], Loss: 0.4543, Acc: 85.7263\n",
      "Epoch [10/10], Step [3000/3646], Loss: 0.1672, Acc: 85.7256\n",
      "Accuracy of the network on the 10000 test images: 85.58818493150685 %\n"
     ]
    }
   ],
   "source": [
    "from torch.autograd import Variable\n",
    "num_epochs = 10\n",
    "\n",
    "def train(num_epochs,cnn,loaders):\n",
    "    \n",
    "    cnn.train()\n",
    "        \n",
    "    # Train the model\n",
    "    total_step = len(loaders['train'])\n",
    "    total_step_val = len(loaders['val'])\n",
    "    \n",
    "    train_loss_list = []\n",
    "    train_mean_loss_list = []\n",
    "    train_acc_list = []\n",
    "    train_correct = 0\n",
    "    train_total = 0\n",
    "    val_correct = 0\n",
    "    val_total = 0\n",
    "    val_acc_list = []\n",
    " \n",
    "    for epoch in range(num_epochs):  \n",
    "        mean_loss = []\n",
    "        for step in range(0,total_step):            \n",
    "            tensor1, tensor2, tensor3 = next(iter(loaders['train']))\n",
    "            tensors = [tensor1, tensor2, tensor3]           \n",
    "            for j, tensor in enumerate(tensors):                \n",
    "                if(len(tensor)==0):\n",
    "                    continue\n",
    "                images = [x[0] for x in tensor]\n",
    "                labels = [x[1] for x in tensor]\n",
    "                images = torch.stack(images)\n",
    "                labels = torch.tensor(labels)\n",
    "                \n",
    "                outputs = cnn(images)           \n",
    "                loss = criterion(outputs, labels)\n",
    "                # clear gradients for this training step   \n",
    "                optimizer.zero_grad()           \n",
    "                # backpropagation, compute gradients \n",
    "                loss.backward()    \n",
    "                # apply gradients             \n",
    "                optimizer.step()  \n",
    "                \n",
    "                _, predicted = outputs.max(1)\n",
    "                train_total += labels.size(0)\n",
    "                train_correct += predicted.eq(labels).sum().item()\n",
    "                train_acc =100.*train_correct/train_total\n",
    "                \n",
    "                mean_loss.append(loss.item())\n",
    "\n",
    "            if (step+1) % 1000 == 0:\n",
    "                print ('Epoch [{}/{}], Step [{}/{}], Loss: {:.4f}, Acc: {:.4f}' \n",
    "                       .format(epoch + 1, num_epochs, step + 1, total_step, loss.item(), train_acc))\n",
    "                pass \n",
    "        train_mean_loss_list.append(np.mean(mean_loss))\n",
    "        train_loss_list.append(loss.item())\n",
    "        train_acc_list.append(train_acc)\n",
    "        \n",
    "        # since we're not training, we don't need to calculate the gradients for our outputs\n",
    "        with torch.no_grad():\n",
    "            for step in range(0,total_step_val):\n",
    "                    tensor1, tensor2, tensor3 = next(iter(loaders['val']))\n",
    "                    tensors = [tensor1, tensor2, tensor3]\n",
    "                    for j, tensor in enumerate(tensors):\n",
    "        #                 N = resolutions[j]\n",
    "        #                 for i, (images, labels) in enumerate(tensor):\n",
    "                        if(len(tensor)==0):\n",
    "                            continue\n",
    "\n",
    "                        images = [x[0] for x in tensor]\n",
    "                        labels = [x[1] for x in tensor]\n",
    "                        images = torch.stack(images)\n",
    "                        labels = torch.tensor(labels)\n",
    "                        # calculate outputs by running images through the network\n",
    "                        val_outputs = cnn(images)\n",
    "                        # the class with the highest energy is what we choose as prediction\n",
    "                        _, val_predicted = torch.max(val_outputs.data, 1)\n",
    "                        val_total += labels.size(0)\n",
    "                        val_correct += (val_predicted == labels).sum().item()\n",
    "                        val_acc =100.*val_correct/val_total\n",
    "                        \n",
    "        val_acc_list.append(val_acc)\n",
    "\n",
    "        print(f'Accuracy of the network on the 10000 test images: {val_acc} %')                   \n",
    "        pass    \n",
    "    pass\n",
    "    return(train_loss_list, train_acc_list, val_acc_list, train_mean_loss_list)\n",
    "        \n",
    "\n",
    "train_loss_list, train_acc_list, val_acc_list, train_mean_loss_list = train(num_epochs, cnn, loaders)"
   ]
  },
  {
   "cell_type": "code",
   "execution_count": 29,
   "id": "0ab72fbd",
   "metadata": {},
   "outputs": [
    {
     "name": "stdout",
     "output_type": "stream",
     "text": [
      "[0.34716424345970154, 0.16224634647369385, 0.16687792539596558, 0.5010800957679749, 0.6467919945716858, 0.7186324596405029, 1.4347394704818726, 0.5288761854171753, 1.0283844470977783, 0.15358129143714905] [85.92121503017005, 85.76865057597367, 85.77093618577436, 85.79479223806912, 85.79744925946243, 85.76407935637228, 85.77624206566884, 85.73436642896324, 85.7157006155909, 85.73213795940757] [85.35958904109589, 85.37243150684931, 85.4337899543379, 85.54580479452055, 85.53424657534246, 85.51797945205479, 85.60420743639922, 85.63891267123287, 85.587899543379, 85.58818493150685] [0.40288270644555707, 0.4086256395531694, 0.4047244369085347, 0.4034816114172607, 0.40455366276390303, 0.4075440269578845, 0.4058590107359911, 0.40888525550167565, 0.40712577433248487, 0.40086574894381644]\n"
     ]
    }
   ],
   "source": [
    "print(train_loss_list, train_acc_list, val_acc_list, train_mean_loss_list)"
   ]
  },
  {
   "cell_type": "code",
   "execution_count": 30,
   "id": "5ee6106d",
   "metadata": {},
   "outputs": [
    {
     "data": {
      "image/png": "[encoded data removed]",
      "text/plain": [
       "<Figure size 432x288 with 1 Axes>"
      ]
     },
     "metadata": {
      "needs_background": "light"
     },
     "output_type": "display_data"
    }
   ],
   "source": [
    "# Get training and test loss histories\n",
    "df = pd.DataFrame(list(zip(train_loss_list, train_acc_list, val_acc_list,train_mean_loss_list )),columns =['Train_Loss', 'Train_Accuracy', 'Val_Accuracy', 'Train_Mean_Loss'])\n",
    "training_mean_loss = df['Train_Mean_Loss']\n",
    "\n",
    "# Create count of the number of epochs\n",
    "epoch_count = num_epochs #(len(x_train)) #range(1, len(training_loss) + 1\n",
    "\n",
    "# Visualize loss history\n",
    "plt.plot(training_mean_loss, 'b')\n",
    "plt.legend(['Training Mean Loss'])\n",
    "plt.xlabel('Epoch')\n",
    "plt.ylabel('Train Mean Loss per epoch')\n",
    "plt.savefig(\"Training_Mean_Loss_Q14.png\")\n",
    "plt.show();"
   ]
  },
  {
   "cell_type": "code",
   "execution_count": 31,
   "id": "1f17951a",
   "metadata": {},
   "outputs": [
    {
     "data": {
      "image/png": "[encoded data removed]",
      "text/plain": [
       "<Figure size 432x288 with 1 Axes>"
      ]
     },
     "metadata": {
      "needs_background": "light"
     },
     "output_type": "display_data"
    }
   ],
   "source": [
    "# Get training and test loss histories\n",
    "df = pd.DataFrame(list(zip(train_loss_list, train_acc_list, val_acc_list )),columns =['Train_Loss', 'Train_Accuracy', 'Val_Accuracy'])\n",
    "training_loss = df['Train_Loss']\n",
    "\n",
    "# Create count of the number of epochs\n",
    "epoch_count = num_epochs #(len(x_train)) #range(1, len(training_loss) + 1\n",
    "\n",
    "# Visualize loss history\n",
    "plt.plot(training_loss, 'b')\n",
    "plt.legend(['Training Loss'])\n",
    "plt.xlabel('Epoch')\n",
    "plt.ylabel('Train Loss per epoch')\n",
    "plt.savefig(\"Training_Loss_Q14.png\")\n",
    "plt.show();"
   ]
  },
  {
   "cell_type": "code",
   "execution_count": 32,
   "id": "e731658e",
   "metadata": {},
   "outputs": [
    {
     "data": {
      "image/png": "[encoded data removed]",
      "text/plain": [
       "<Figure size 432x288 with 1 Axes>"
      ]
     },
     "metadata": {
      "needs_background": "light"
     },
     "output_type": "display_data"
    }
   ],
   "source": [
    "# Get training and test loss histories\n",
    "# df = pd.DataFrame(list(zip(loss_list, acc_list)),columns =['Train_Accuracy', 'Val_Accuracy'])\n",
    "training_acc = df['Train_Accuracy']\n",
    "val_acc = df['Val_Accuracy']\n",
    "\n",
    "# Create count of the number of epochs\n",
    "epoch_count = num_epochs #(len(x_train)) #range(1, len(training_loss) + 1\n",
    "\n",
    "# Visualize loss history\n",
    "plt.plot(training_acc, 'b')\n",
    "plt.plot(val_acc, 'r-')\n",
    "plt.legend(['Training Accuracy', 'Val Accuracy'])\n",
    "plt.xlabel('Epoch')\n",
    "plt.ylabel('Train and Val Accuracy per Epoch')\n",
    "plt.savefig(\"Accuracy_Q14.png\")\n",
    "plt.show();"
   ]
  },
  {
   "cell_type": "code",
   "execution_count": 18,
   "id": "263ca652",
   "metadata": {},
   "outputs": [],
   "source": [
    "# Epoch [1/5], Step [1000/3646], Loss: 0.1059\n",
    "# Epoch [1/5], Step [2000/3646], Loss: 1.1070\n",
    "# Epoch [1/5], Step [3000/3646], Loss: 0.3805\n",
    "# Epoch [2/5], Step [1000/3646], Loss: 0.1022\n",
    "# Epoch [2/5], Step [2000/3646], Loss: 0.5125\n",
    "# Epoch [2/5], Step [3000/3646], Loss: 0.1823\n",
    "# Epoch [3/5], Step [1000/3646], Loss: 0.3730\n",
    "# Epoch [3/5], Step [2000/3646], Loss: 0.1487\n",
    "# Epoch [3/5], Step [3000/3646], Loss: 0.4080\n",
    "# Epoch [4/5], Step [1000/3646], Loss: 0.1764\n",
    "# Epoch [4/5], Step [2000/3646], Loss: 0.1594\n",
    "# Epoch [4/5], Step [3000/3646], Loss: 0.5917\n",
    "# Epoch [5/5], Step [1000/3646], Loss: 0.5908\n",
    "# Epoch [5/5], Step [2000/3646], Loss: 0.1699\n",
    "# Epoch [5/5], Step [3000/3646], Loss: 0.1475"
   ]
  },
  {
   "cell_type": "code",
   "execution_count": null,
   "id": "03400fed",
   "metadata": {},
   "outputs": [],
   "source": []
  }
 ],
 "metadata": {
  "kernelspec": {
   "display_name": "Python 3 (ipykernel)",
   "language": "python",
   "name": "python3"
  },
  "language_info": {
   "codemirror_mode": {
    "name": "ipython",
    "version": 3
   },
   "file_extension": ".py",
   "mimetype": "text/x-python",
   "name": "python",
   "nbconvert_exporter": "python",
   "pygments_lexer": "ipython3",
   "version": "3.9.12"
  }
 },
 "nbformat": 4,
 "nbformat_minor": 5
}
