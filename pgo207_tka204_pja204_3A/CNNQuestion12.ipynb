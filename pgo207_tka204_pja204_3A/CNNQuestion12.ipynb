{
 "cells": [
  {
   "cell_type": "code",
   "execution_count": 1,
   "id": "86601b25",
   "metadata": {},
   "outputs": [
    {
     "name": "stderr",
     "output_type": "stream",
     "text": [
      "C:\\Users\\Payanshi\\Anaconda3\\lib\\site-packages\\tqdm\\auto.py:22: TqdmWarning: IProgress not found. Please update jupyter and ipywidgets. See https://ipywidgets.readthedocs.io/en/stable/user_install.html\n",
      "  from .autonotebook import tqdm as notebook_tqdm\n"
     ]
    }
   ],
   "source": [
    "import numpy as np\n",
    "import torch\n",
    "import torchvision\n",
    "from torchvision import datasets, transforms\n",
    "from torch.utils.data.sampler import SubsetRandomSampler\n",
    "import torch.nn as nn\n",
    "import torch.nn.functional as F\n",
    "import pandas as pd\n",
    "import matplotlib.pyplot as plt\n",
    "import torch.optim as optim\n",
    "from torch.autograd import Variable"
   ]
  },
  {
   "cell_type": "code",
   "execution_count": 2,
   "id": "bca4c619",
   "metadata": {},
   "outputs": [],
   "source": [
    "def get_train_valid_loader(data_dir,\n",
    "                           batch_size,\n",
    "                           random_seed,\n",
    "                           augment=False,\n",
    "                           valid_size=0.2,\n",
    "                           shuffle=True,\n",
    "                           show_sample=False,\n",
    "                           num_workers=1,\n",
    "                           pin_memory=True):\n",
    "    \"\"\"\n",
    "    ------\n",
    "    - data_dir: path directory to the dataset.\n",
    "    - batch_size: how many samples per batch to load.\n",
    "    - augment: whether to apply the data augmentation scheme\n",
    "      mentioned in the paper. Only applied on the train split.\n",
    "    - random_seed: fix seed for reproducibility.\n",
    "    - valid_size: percentage split of the training set used for\n",
    "      the validation set. Should be a float in the range [0, 1].\n",
    "    - shuffle: whether to shuffle the train/validation indices.\n",
    "    - show_sample: plot 9x9 sample grid of the dataset.\n",
    "    - num_workers: number of subprocesses to use when loading the dataset.\n",
    "    - pin_memory: whether to copy tensors into CUDA pinned memory. Set it to\n",
    "      True if using GPU.\n",
    "    Returns\n",
    "    -------\n",
    "    - train_loader: training set iterator.\n",
    "    - valid_loader: validation set iterator.\n",
    "    \"\"\"\n",
    "    error_msg = \"[!] valid_size should be in the range [0, 1].\"\n",
    "    assert ((valid_size >= 0) and (valid_size <= 1)), error_msg\n",
    "    \n",
    "    \n",
    "    normalize = transforms.Normalize((0.1307,), (0.3081,))  # MNIST\n",
    "\n",
    "    # define transforms\n",
    "    valid_transform = transforms.Compose([\n",
    "        transforms.Resize((28,28)),\n",
    "            transforms.ToTensor(),\n",
    "            normalize\n",
    "        ])\n",
    "    if augment:\n",
    "        train_transform = transforms.Compose([\n",
    "            transforms.RandomCrop(32, padding=4),\n",
    "            transforms.RandomHorizontalFlip(),\n",
    "            transforms.Resize((28,28)),\n",
    "            transforms.ToTensor(),\n",
    "            normalize\n",
    "        ])\n",
    "    else:\n",
    "        train_transform = transforms.Compose([\n",
    "            transforms.Resize((28,28)),\n",
    "            transforms.ToTensor(),\n",
    "            normalize\n",
    "        ])\n",
    "\n",
    "    # load the dataset\n",
    "    \n",
    "    train_dataset = datasets.ImageFolder(root=data_dir,transform=train_transform)\n",
    "    valid_dataset = datasets.ImageFolder(root=data_dir,transform=valid_transform)\n",
    "#     train_dataset = datasets.MNIST(root=data_dir, train=True, \n",
    "#                 download=True, transform=train_transform)\n",
    "\n",
    "#     valid_dataset = datasets.MNIST(root=data_dir, train=True, \n",
    "#                 download=True, transform=valid_transform)\n",
    "\n",
    "    num_train = len(train_dataset)\n",
    "    indices = list(range(num_train))\n",
    "    split = int(np.floor(valid_size * num_train))\n",
    "\n",
    "    if shuffle == True:\n",
    "        np.random.seed(random_seed)\n",
    "        np.random.shuffle(indices)\n",
    "\n",
    "    train_idx, valid_idx = indices[split:], indices[:split]\n",
    "\n",
    "    train_sampler = SubsetRandomSampler(train_idx)\n",
    "    valid_sampler = SubsetRandomSampler(valid_idx)\n",
    "\n",
    "    train_loader = torch.utils.data.DataLoader(train_dataset, \n",
    "                    batch_size=batch_size, sampler=train_sampler, \n",
    "                    num_workers=num_workers, pin_memory=pin_memory)\n",
    "\n",
    "    valid_loader = torch.utils.data.DataLoader(valid_dataset, \n",
    "                    batch_size=batch_size, sampler=valid_sampler, \n",
    "                    num_workers=num_workers, pin_memory=pin_memory)\n",
    "\n",
    "\n",
    "    # visualize some images\n",
    "    if show_sample:\n",
    "        sample_loader = torch.utils.data.DataLoader(train_dataset, \n",
    "                                                    batch_size=9, \n",
    "                                                    shuffle=shuffle, \n",
    "                                                    num_workers=num_workers,\n",
    "                                                    pin_memory=pin_memory)\n",
    "        data_iter = iter(sample_loader)\n",
    "        images, labels = data_iter.next()\n",
    "        X = images.numpy()\n",
    "        plot_images(X, labels)\n",
    "\n",
    "    return (train_loader, valid_loader)"
   ]
  },
  {
   "cell_type": "code",
   "execution_count": 3,
   "id": "5674f886",
   "metadata": {},
   "outputs": [],
   "source": [
    "def get_test_loader(data_dir, \n",
    "                    batch_size,\n",
    "                    shuffle=True,\n",
    "                    num_workers=1,\n",
    "                    pin_memory=True):\n",
    "    \"\"\"\n",
    "    Utility function for loading and returning a multi-process \n",
    "    test iterator over the MNIST dataset.\n",
    "    If using CUDA, num_workers should be set to 1 and pin_memory to True.\n",
    "    Params\n",
    "    ------\n",
    "    - data_dir: path directory to the dataset.\n",
    "    - batch_size: how many samples per batch to load.\n",
    "    - shuffle: whether to shuffle the dataset after every epoch.\n",
    "    - num_workers: number of subprocesses to use when loading the dataset.\n",
    "    - pin_memory: whether to copy tensors into CUDA pinned memory. Set it to\n",
    "      True if using GPU.\n",
    "    Returns\n",
    "    -------\n",
    "    - data_loader: test set iterator.\n",
    "    \"\"\"\n",
    "    normalize = transforms.Normalize((0.1307,), (0.3081,))  # MNIST\n",
    "\n",
    "    # define transform\n",
    "    transform = transforms.Compose([\n",
    "        transforms.Resize((28,28)),\n",
    "        transforms.ToTensor(),\n",
    "        normalize\n",
    "    ])\n",
    "\n",
    "    dataset = datasets.ImageFolder(root=data_dir, \n",
    "#                                train=False, \n",
    "#                                download=True,\n",
    "                               transform=transform)\n",
    "\n",
    "    data_loader = torch.utils.data.DataLoader(dataset, \n",
    "                                              batch_size=batch_size, \n",
    "                                              shuffle=shuffle, \n",
    "                                              num_workers=num_workers,\n",
    "                                              pin_memory=pin_memory)\n",
    "\n",
    "    return data_loader"
   ]
  },
  {
   "cell_type": "code",
   "execution_count": 4,
   "id": "7adae040",
   "metadata": {},
   "outputs": [],
   "source": [
    "# imagenet_data = torchvision.datasets.ImageNet('mnist-varres.tar.gz')\n",
    "train_loader, valid_loader = get_train_valid_loader('mnist-varres/train/',\n",
    "                           batch_size = 16,\n",
    "                           random_seed = 100,\n",
    "                           augment=False,\n",
    "                           valid_size=1/6,\n",
    "                           shuffle=True,\n",
    "                           show_sample=False,\n",
    "                           num_workers=1,\n",
    "                           pin_memory=True)"
   ]
  },
  {
   "cell_type": "code",
   "execution_count": 5,
   "id": "9ec6cb09",
   "metadata": {},
   "outputs": [],
   "source": [
    "test_loader = get_test_loader('mnist-varres/test/', \n",
    "                    batch_size=10,\n",
    "                    shuffle=True,\n",
    "                    num_workers=1,\n",
    "                    pin_memory=True)"
   ]
  },
  {
   "cell_type": "code",
   "execution_count": 6,
   "id": "2f5baf18",
   "metadata": {},
   "outputs": [],
   "source": [
    "loaders = {'train': train_loader,\n",
    "          'test': test_loader,\n",
    "          'val': valid_loader} "
   ]
  },
  {
   "cell_type": "code",
   "execution_count": 7,
   "id": "fb018419",
   "metadata": {},
   "outputs": [],
   "source": [
    "class CNN(nn.Module):\n",
    "    def __init__(self):\n",
    "        super(CNN, self).__init__()\n",
    "        #\n",
    "        self.conv1 = nn.Sequential(nn.Conv2d(in_channels=3, out_channels=16, kernel_size=3, stride=1, padding=1),\n",
    "                                   nn.ReLU(),\n",
    "                                   nn.MaxPool2d(kernel_size=2),\n",
    "                                  )\n",
    "        self.conv2 = nn.Sequential(nn.Conv2d(16, 32, 3, 1, 1),\n",
    "                                  nn.ReLU(),\n",
    "                                  nn.MaxPool2d(kernel_size=2),\n",
    "                                  )\n",
    "        self.conv3 = nn.Sequential(nn.Conv2d(32, 64, 3, 1, 1),\n",
    "                                  nn.ReLU(),\n",
    "                                  nn.MaxPool2d(kernel_size=2),\n",
    "                                  )\n",
    "        self.out = nn.Linear(64*3*3, 10)\n",
    "        \n",
    "    def forward(self, x):\n",
    "        x = self.conv1(x)\n",
    "        x = self.conv2(x)\n",
    "        x = self.conv3(x)\n",
    "        \n",
    "        x = torch.flatten(x, 1)\n",
    "        x = self.out(x)\n",
    "        \n",
    "        return x"
   ]
  },
  {
   "cell_type": "code",
   "execution_count": 8,
   "id": "f6a49fff",
   "metadata": {},
   "outputs": [
    {
     "name": "stdout",
     "output_type": "stream",
     "text": [
      "CNN(\n",
      "  (conv1): Sequential(\n",
      "    (0): Conv2d(3, 16, kernel_size=(3, 3), stride=(1, 1), padding=(1, 1))\n",
      "    (1): ReLU()\n",
      "    (2): MaxPool2d(kernel_size=2, stride=2, padding=0, dilation=1, ceil_mode=False)\n",
      "  )\n",
      "  (conv2): Sequential(\n",
      "    (0): Conv2d(16, 32, kernel_size=(3, 3), stride=(1, 1), padding=(1, 1))\n",
      "    (1): ReLU()\n",
      "    (2): MaxPool2d(kernel_size=2, stride=2, padding=0, dilation=1, ceil_mode=False)\n",
      "  )\n",
      "  (conv3): Sequential(\n",
      "    (0): Conv2d(32, 64, kernel_size=(3, 3), stride=(1, 1), padding=(1, 1))\n",
      "    (1): ReLU()\n",
      "    (2): MaxPool2d(kernel_size=2, stride=2, padding=0, dilation=1, ceil_mode=False)\n",
      "  )\n",
      "  (out): Linear(in_features=576, out_features=10, bias=True)\n",
      ")\n"
     ]
    }
   ],
   "source": [
    "cnn = CNN()#1,10,48) #64 #32\n",
    "print(cnn)"
   ]
  },
  {
   "cell_type": "code",
   "execution_count": 9,
   "id": "31ae31eb",
   "metadata": {},
   "outputs": [
    {
     "name": "stdout",
     "output_type": "stream",
     "text": [
      "8\n",
      "torch.Size([16, 3, 3, 3])\n"
     ]
    }
   ],
   "source": [
    "params = list(cnn.parameters())\n",
    "print(len(params))\n",
    "print(params[0].size()) "
   ]
  },
  {
   "cell_type": "markdown",
   "id": "baece28d",
   "metadata": {},
   "source": [
    "### Loss Function and Optimizer"
   ]
  },
  {
   "cell_type": "code",
   "execution_count": 10,
   "id": "6710e40b",
   "metadata": {},
   "outputs": [],
   "source": [
    "criterion = nn.CrossEntropyLoss()\n",
    "optimizer = optim.Adam(cnn.parameters(), lr=0.0001)"
   ]
  },
  {
   "cell_type": "code",
   "execution_count": 11,
   "id": "a97b2d7c",
   "metadata": {},
   "outputs": [
    {
     "data": {
      "text/plain": [
       "Adam (\n",
       "Parameter Group 0\n",
       "    amsgrad: False\n",
       "    betas: (0.9, 0.999)\n",
       "    capturable: False\n",
       "    differentiable: False\n",
       "    eps: 1e-08\n",
       "    foreach: None\n",
       "    fused: False\n",
       "    lr: 0.0001\n",
       "    maximize: False\n",
       "    weight_decay: 0\n",
       ")"
      ]
     },
     "execution_count": 11,
     "metadata": {},
     "output_type": "execute_result"
    }
   ],
   "source": [
    "optimizer"
   ]
  },
  {
   "cell_type": "code",
   "execution_count": 12,
   "id": "406b071d",
   "metadata": {},
   "outputs": [
    {
     "name": "stdout",
     "output_type": "stream",
     "text": [
      "Epoch [1/10], Step [1000/3125], Loss: 1.9172, Acc : 36.1875\n",
      "Epoch [1/10], Step [2000/3125], Loss: 0.9400, Acc : 50.7344\n",
      "Epoch [1/10], Step [3000/3125], Loss: 0.7433, Acc : 58.6771\n",
      "Epoch [2/10], Step [1000/3125], Loss: 0.4076, Acc : 80.3125\n",
      "Epoch [2/10], Step [2000/3125], Loss: 0.6914, Acc : 81.5875\n",
      "Epoch [2/10], Step [3000/3125], Loss: 0.6263, Acc : 82.7375\n",
      "Epoch [3/10], Step [1000/3125], Loss: 0.4598, Acc : 86.8500\n",
      "Epoch [3/10], Step [2000/3125], Loss: 0.5194, Acc : 87.4125\n",
      "Epoch [3/10], Step [3000/3125], Loss: 0.2460, Acc : 87.8375\n",
      "Epoch [4/10], Step [1000/3125], Loss: 0.3886, Acc : 89.7375\n",
      "Epoch [4/10], Step [2000/3125], Loss: 0.4861, Acc : 90.1000\n",
      "Epoch [4/10], Step [3000/3125], Loss: 0.3458, Acc : 90.3063\n",
      "Epoch [5/10], Step [1000/3125], Loss: 0.0652, Acc : 91.4500\n",
      "Epoch [5/10], Step [2000/3125], Loss: 0.3085, Acc : 91.8844\n",
      "Epoch [5/10], Step [3000/3125], Loss: 0.8497, Acc : 91.9937\n",
      "Epoch [6/10], Step [1000/3125], Loss: 0.3866, Acc : 92.9750\n",
      "Epoch [6/10], Step [2000/3125], Loss: 0.1584, Acc : 92.9500\n",
      "Epoch [6/10], Step [3000/3125], Loss: 0.0954, Acc : 92.9833\n",
      "Epoch [7/10], Step [1000/3125], Loss: 0.0412, Acc : 93.8438\n",
      "Epoch [7/10], Step [2000/3125], Loss: 0.3991, Acc : 93.7562\n",
      "Epoch [7/10], Step [3000/3125], Loss: 0.1348, Acc : 93.7562\n",
      "Epoch [8/10], Step [1000/3125], Loss: 0.0419, Acc : 94.2188\n",
      "Epoch [8/10], Step [2000/3125], Loss: 0.1732, Acc : 94.3031\n",
      "Epoch [8/10], Step [3000/3125], Loss: 0.0966, Acc : 94.3646\n",
      "Epoch [9/10], Step [1000/3125], Loss: 0.0992, Acc : 94.8688\n",
      "Epoch [9/10], Step [2000/3125], Loss: 0.0755, Acc : 94.9000\n",
      "Epoch [9/10], Step [3000/3125], Loss: 0.0621, Acc : 94.9104\n",
      "Epoch [10/10], Step [1000/3125], Loss: 0.3872, Acc : 95.1875\n",
      "Epoch [10/10], Step [2000/3125], Loss: 0.0186, Acc : 95.2313\n",
      "Epoch [10/10], Step [3000/3125], Loss: 0.1460, Acc : 95.3375\n"
     ]
    }
   ],
   "source": [
    "num_epochs = 10 #5\n",
    "def train(num_epochs, cnn, loaders):\n",
    "    \n",
    "    cnn.train()\n",
    "        \n",
    "    # Train the model\n",
    "    total_step = len(loaders['train'])\n",
    "    \n",
    "    train_loss_list = []\n",
    "    train_mean_loss_list = []\n",
    "    train_acc_list = []\n",
    "    val_acc_list = []\n",
    "    \n",
    "    for epoch in range(num_epochs):\n",
    "        train_correct = 0\n",
    "        train_total = 0\n",
    "        val_correct = 0\n",
    "        val_total = 0\n",
    "        mean_loss = []\n",
    "        for i, (images, labels) in enumerate(loaders['train']):            \n",
    "        \n",
    "            outputs = cnn(images)              \n",
    "            loss = criterion(outputs, labels)\n",
    "            \n",
    "            # clear gradients for this training step   \n",
    "            optimizer.zero_grad()           \n",
    "            # backpropagation, compute gradients \n",
    "            loss.backward()    \n",
    "            # apply gradients             \n",
    "            optimizer.step()   \n",
    "            \n",
    "            _, predicted = outputs.max(1)\n",
    "            train_total += labels.size(0)\n",
    "            train_correct += predicted.eq(labels).sum().item()\n",
    "            train_acc =100.*(train_correct/train_total)\n",
    "            \n",
    "            if (i+1) % 1000 == 0:\n",
    "                print ('Epoch [{}/{}], Step [{}/{}], Loss: {:.4f}, Acc : {:.4f}' \n",
    "                       .format(epoch + 1, num_epochs, i + 1, total_step, loss.item(), train_acc))\n",
    "                \n",
    "                pass\n",
    "            mean_loss.append(loss.item())\n",
    "        \n",
    "        train_mean_loss_list.append(np.mean(mean_loss))\n",
    "        train_loss_list.append(loss.item())\n",
    "        train_acc_list.append(train_acc)\n",
    "        \n",
    "       \n",
    "        # since we're not training, we don't need to calculate the gradients for our outputs\n",
    "        with torch.no_grad():\n",
    "            for data in loaders['val']: #valid_loader:\n",
    "                images, labels = data\n",
    "                # calculate outputs by running images through the network\n",
    "                val_outputs = cnn(images)\n",
    "                # the class with the highest energy is what we choose as prediction\n",
    "                _, val_predicted = torch.max(val_outputs.data, 1)\n",
    "                val_total += labels.size(0)\n",
    "                val_correct += (val_predicted == labels).sum().item()\n",
    "                val_acc =100.*(val_correct/val_total)\n",
    "                \n",
    "        val_acc_list.append(val_acc)\n",
    "        \n",
    "        pass    \n",
    "    \n",
    "    pass\n",
    "    return(train_loss_list, train_acc_list, val_acc_list, train_mean_loss_list)\n",
    "    \n",
    "train_loss_list, train_acc_list, val_acc_list, train_mean_loss_list = train(num_epochs, cnn, loaders)"
   ]
  },
  {
   "cell_type": "code",
   "execution_count": 13,
   "id": "d7e158c1",
   "metadata": {},
   "outputs": [
    {
     "data": {
      "image/png": "[encoded data removed]",
      "text/plain": [
       "<Figure size 640x480 with 1 Axes>"
      ]
     },
     "metadata": {},
     "output_type": "display_data"
    }
   ],
   "source": [
    "# Get training and test loss histories\n",
    "df = pd.DataFrame(list(zip(train_loss_list, train_acc_list, val_acc_list,train_mean_loss_list )),columns =['Train_Loss', 'Train_Accuracy', 'Val_Accuracy', 'Train_Mean_Loss'])\n",
    "training_mean_loss = df['Train_Mean_Loss']\n",
    "\n",
    "# Create count of the number of epochs\n",
    "epoch_count = num_epochs #(len(x_train)) #range(1, len(training_loss) + 1\n",
    "\n",
    "# Visualize loss history\n",
    "plt.plot(training_mean_loss, 'b')\n",
    "plt.legend(['Training Mean Loss'])\n",
    "plt.xlabel('Epoch')\n",
    "plt.ylabel('Train Mean Loss per epoch')\n",
    "plt.savefig(\"Training_Mean_Loss_Q12_v1.png\")\n",
    "plt.show();"
   ]
  },
  {
   "cell_type": "code",
   "execution_count": 14,
   "id": "054dbbf1",
   "metadata": {},
   "outputs": [
    {
     "data": {
      "image/png": "[encoded data removed]",
      "text/plain": [
       "<Figure size 640x480 with 1 Axes>"
      ]
     },
     "metadata": {},
     "output_type": "display_data"
    }
   ],
   "source": [
    "# Get training and test loss histories\n",
    "df = pd.DataFrame(list(zip(train_loss_list, train_acc_list, val_acc_list )),columns =['Train_Loss', 'Train_Accuracy', 'Val_Accuracy'])\n",
    "training_loss = df['Train_Loss']\n",
    "\n",
    "# Create count of the number of epochs\n",
    "epoch_count = num_epochs #(len(x_train)) #range(1, len(training_loss) + 1\n",
    "\n",
    "# Visualize loss history\n",
    "plt.plot(training_loss, 'b')\n",
    "plt.legend(['Training Loss'])\n",
    "plt.xlabel('Epoch')\n",
    "plt.ylabel('Train Loss per epoch')\n",
    "plt.savefig(\"Training_Loss_Q12_v1.png\")\n",
    "plt.show();"
   ]
  },
  {
   "cell_type": "code",
   "execution_count": 15,
   "id": "049dba6b",
   "metadata": {},
   "outputs": [
    {
     "data": {
      "image/png": "[encoded data removed]",
      "text/plain": [
       "<Figure size 640x480 with 1 Axes>"
      ]
     },
     "metadata": {},
     "output_type": "display_data"
    }
   ],
   "source": [
    "# Get training and test loss histories\n",
    "# df = pd.DataFrame(list(zip(loss_list, acc_list)),columns =['Train_Accuracy', 'Val_Accuracy'])\n",
    "training_acc = df['Train_Accuracy']\n",
    "val_acc = df['Val_Accuracy']\n",
    "\n",
    "# Create count of the number of epochs\n",
    "epoch_count = num_epochs #(len(x_train)) #range(1, len(training_loss) + 1\n",
    "\n",
    "# Visualize loss history\n",
    "plt.plot(training_acc, 'b')\n",
    "plt.plot(val_acc, 'r-')\n",
    "plt.legend(['Training Accuracy', 'Val Accuracy'])\n",
    "plt.xlabel('Epoch')\n",
    "plt.ylabel('Train and Val Accuracy per Epoch')\n",
    "plt.savefig(\"Accuracy_Q12_v1.png\")\n",
    "plt.show();"
   ]
  },
  {
   "cell_type": "code",
   "execution_count": 16,
   "id": "e0a2c5f3",
   "metadata": {},
   "outputs": [
    {
     "name": "stdout",
     "output_type": "stream",
     "text": [
      "Accuracy of the network on the 10000 test images: 95.07 %\n"
     ]
    }
   ],
   "source": [
    "correct = 0\n",
    "total = 0\n",
    "# since we're not training, we don't need to calculate the gradients for our outputs\n",
    "with torch.no_grad():\n",
    "    for data in test_loader:\n",
    "        images, labels = data\n",
    "        # calculate outputs by running images through the network\n",
    "        outputs = cnn(images)\n",
    "        # the class with the highest energy is what we choose as prediction\n",
    "        _, predicted = torch.max(outputs.data, 1)\n",
    "        total += labels.size(0)\n",
    "        correct += (predicted == labels).sum().item()\n",
    "\n",
    "print(f'Accuracy of the network on the 10000 test images: {100 * correct / total} %')"
   ]
  },
  {
   "cell_type": "markdown",
   "id": "335e2ef6",
   "metadata": {},
   "source": []
  }
 ],
 "metadata": {
  "kernelspec": {
   "display_name": "Python 3 (ipykernel)",
   "language": "python",
   "name": "python3"
  },
  "language_info": {
   "codemirror_mode": {
    "name": "ipython",
    "version": 3
   },
   "file_extension": ".py",
   "mimetype": "text/x-python",
   "name": "python",
   "nbconvert_exporter": "python",
   "pygments_lexer": "ipython3",
   "version": "3.7.4"
  }
 },
 "nbformat": 4,
 "nbformat_minor": 5
}
