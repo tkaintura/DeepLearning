{
 "cells": [
  {
   "cell_type": "code",
   "execution_count": 1,
   "id": "f9fed261",
   "metadata": {},
   "outputs": [],
   "source": [
    "import numpy as np\n",
    "import pandas as pd\n",
    "import torch\n",
    "import torch.nn.functional as F"
   ]
  },
  {
   "cell_type": "markdown",
   "id": "3b09b57f",
   "metadata": {},
   "source": [
    "# Question 11"
   ]
  },
  {
   "cell_type": "code",
   "execution_count": 60,
   "id": "1dd7b1d9",
   "metadata": {},
   "outputs": [],
   "source": [
    "x = torch.randn(10, 5, 3, 4)"
   ]
  },
  {
   "cell_type": "code",
   "execution_count": 61,
   "id": "b054b7be",
   "metadata": {},
   "outputs": [],
   "source": [
    "x_mean_pool = torch.mean(x.view(x.size(0), x.size(1), -1), dim=2)\n",
    "x_max_pool = torch.max(x.view(x.size(0), x.size(1), -1), dim=2)"
   ]
  },
  {
   "cell_type": "code",
   "execution_count": 62,
   "id": "5d8050cb",
   "metadata": {},
   "outputs": [
    {
     "data": {
      "text/plain": [
       "torch.Size([10, 5])"
      ]
     },
     "execution_count": 62,
     "metadata": {},
     "output_type": "execute_result"
    }
   ],
   "source": [
    "x_mean_pool.shape"
   ]
  },
  {
   "cell_type": "code",
   "execution_count": 63,
   "id": "d8c2315a",
   "metadata": {},
   "outputs": [
    {
     "data": {
      "text/plain": [
       "torch.Size([10, 5])"
      ]
     },
     "execution_count": 63,
     "metadata": {},
     "output_type": "execute_result"
    }
   ],
   "source": [
    "x_max_pool[0].shape"
   ]
  },
  {
   "cell_type": "code",
   "execution_count": 64,
   "id": "008e0a0d",
   "metadata": {},
   "outputs": [
    {
     "data": {
      "text/plain": [
       "tensor([[ 0.0467,  0.0175,  0.1895, -0.7514,  0.0242],\n",
       "        [-0.1610,  0.2377, -0.2689,  0.4620,  0.0795],\n",
       "        [-0.2015, -0.0645,  0.2027,  0.2001, -0.3461],\n",
       "        [ 0.1308,  0.0481,  0.1180,  0.1716,  0.0136],\n",
       "        [ 0.1147, -0.0550, -0.1865, -0.0901,  0.0964],\n",
       "        [-0.0595, -0.4492, -0.3744,  0.1736, -0.3727],\n",
       "        [ 0.2964, -0.2718, -0.0246,  0.2071, -0.0179],\n",
       "        [ 0.0160, -0.4862,  0.2450,  0.2930,  0.0456],\n",
       "        [ 0.3892, -0.4105, -0.4212, -0.4591,  0.7573],\n",
       "        [-0.2444, -0.1751, -0.4091,  0.2015,  0.2022]])"
      ]
     },
     "execution_count": 64,
     "metadata": {},
     "output_type": "execute_result"
    }
   ],
   "source": [
    "x_mean_pool"
   ]
  },
  {
   "cell_type": "code",
   "execution_count": 65,
   "id": "060744cd",
   "metadata": {},
   "outputs": [
    {
     "data": {
      "text/plain": [
       "torch.return_types.max(\n",
       "values=tensor([[0.8930, 1.2958, 2.0468, 0.5708, 1.7492],\n",
       "        [1.3677, 1.7183, 1.3215, 1.3267, 2.7351],\n",
       "        [1.3198, 2.4796, 2.1402, 1.3001, 1.7870],\n",
       "        [1.4887, 1.2393, 1.9484, 2.5183, 1.6162],\n",
       "        [2.1297, 1.9673, 1.8664, 1.7344, 0.9601],\n",
       "        [2.3047, 1.0591, 1.4477, 1.6938, 1.3646],\n",
       "        [2.3246, 1.9541, 1.5654, 2.2761, 1.2131],\n",
       "        [1.8424, 1.9899, 1.9133, 1.8392, 1.8689],\n",
       "        [1.9576, 1.0952, 0.7398, 1.7301, 2.7018],\n",
       "        [0.9203, 0.6774, 1.6847, 1.6686, 1.4751]]),\n",
       "indices=tensor([[10,  1, 10,  5,  9],\n",
       "        [ 7,  0,  8,  2,  0],\n",
       "        [ 9, 11, 10,  4,  9],\n",
       "        [ 9,  1,  5, 10,  6],\n",
       "        [ 1, 11,  3,  4,  9],\n",
       "        [11,  7,  0,  9, 10],\n",
       "        [ 3,  3,  9,  0,  9],\n",
       "        [ 6, 10,  1,  1,  0],\n",
       "        [ 4,  6,  4,  4,  4],\n",
       "        [ 1,  1,  9,  1,  9]]))"
      ]
     },
     "execution_count": 65,
     "metadata": {},
     "output_type": "execute_result"
    }
   ],
   "source": [
    "x_max_pool"
   ]
  },
  {
   "cell_type": "code",
   "execution_count": null,
   "id": "fa9fcad8",
   "metadata": {},
   "outputs": [],
   "source": []
  }
 ],
 "metadata": {
  "kernelspec": {
   "display_name": "Python 3 (ipykernel)",
   "language": "python",
   "name": "python3"
  },
  "language_info": {
   "codemirror_mode": {
    "name": "ipython",
    "version": 3
   },
   "file_extension": ".py",
   "mimetype": "text/x-python",
   "name": "python",
   "nbconvert_exporter": "python",
   "pygments_lexer": "ipython3",
   "version": "3.9.15"
  }
 },
 "nbformat": 4,
 "nbformat_minor": 5
}
