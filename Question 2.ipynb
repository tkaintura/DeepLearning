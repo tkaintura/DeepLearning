{
 "cells": [
  {
   "cell_type": "code",
   "execution_count": 1,
   "id": "c9a3b19b",
   "metadata": {},
   "outputs": [],
   "source": [
    "import numpy as np\n",
    "import pandas as pd\n",
    "import torch\n",
    "import torch.nn.functional as F"
   ]
  },
  {
   "cell_type": "code",
   "execution_count": 2,
   "id": "7be1921c",
   "metadata": {},
   "outputs": [],
   "source": [
    "filters = torch.randn(1, 5, 3, 3) #(no. of kernels, channel, width, height)\n",
    "inputs = torch.randn(1, 5, 32, 32)  #(batch size, channels, width, heights)\n",
    "padding = 1\n",
    "stride = 1"
   ]
  },
  {
   "cell_type": "markdown",
   "id": "eda01d82",
   "metadata": {},
   "source": [
    "## Output using Conv2d (torch)"
   ]
  },
  {
   "cell_type": "code",
   "execution_count": 115,
   "id": "e28ec339",
   "metadata": {},
   "outputs": [],
   "source": [
    "output = F.conv2d(inputs, filters, padding=padding, stride=stride)"
   ]
  },
  {
   "cell_type": "code",
   "execution_count": 116,
   "id": "5a27274d",
   "metadata": {},
   "outputs": [
    {
     "data": {
      "text/plain": [
       "torch.Size([1, 8, 7, 7])"
      ]
     },
     "execution_count": 116,
     "metadata": {},
     "output_type": "execute_result"
    }
   ],
   "source": [
    "output.shape"
   ]
  },
  {
   "cell_type": "markdown",
   "id": "a617a654",
   "metadata": {},
   "source": [
    "## Output using the Function"
   ]
  },
  {
   "cell_type": "code",
   "execution_count": 117,
   "id": "056812d8",
   "metadata": {},
   "outputs": [],
   "source": [
    "def output_size(p,s,inputs,filters):\n",
    "    output_width = (inputs.shape[2] - filters.shape[2] + (2*p))/s + 1\n",
    "    output_heights = (inputs.shape[3] - filters.shape[3] + (2*p))/s + 1\n",
    "    output_dimension = [inputs.shape[0],filters.shape[0], int(output_width), int(output_heights)]\n",
    "    return output_dimension"
   ]
  },
  {
   "cell_type": "code",
   "execution_count": 118,
   "id": "bfe63b9d",
   "metadata": {},
   "outputs": [
    {
     "data": {
      "text/plain": [
       "[1, 8, 7, 7]"
      ]
     },
     "execution_count": 118,
     "metadata": {},
     "output_type": "execute_result"
    }
   ],
   "source": [
    "output_dimension = output_size(padding, stride, inputs, filters)\n",
    "output_dimension"
   ]
  }
 ],
 "metadata": {
  "kernelspec": {
   "display_name": "Python 3 (ipykernel)",
   "language": "python",
   "name": "python3"
  },
  "language_info": {
   "codemirror_mode": {
    "name": "ipython",
    "version": 3
   },
   "file_extension": ".py",
   "mimetype": "text/x-python",
   "name": "python",
   "nbconvert_exporter": "python",
   "pygments_lexer": "ipython3",
   "version": "3.9.12"
  }
 },
 "nbformat": 4,
 "nbformat_minor": 5
}
