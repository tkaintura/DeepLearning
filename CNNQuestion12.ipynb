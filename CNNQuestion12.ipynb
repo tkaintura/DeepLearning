{
 "cells": [
  {
   "cell_type": "code",
   "execution_count": 1,
   "id": "86601b25",
   "metadata": {},
   "outputs": [],
   "source": [
    "import numpy as np"
   ]
  },
  {
   "cell_type": "code",
   "execution_count": 2,
   "id": "55420664",
   "metadata": {},
   "outputs": [],
   "source": [
    "import torch\n",
    "import torchvision\n",
    "from torchvision import datasets, transforms\n",
    "from torch.utils.data.sampler import SubsetRandomSampler"
   ]
  },
  {
   "cell_type": "code",
   "execution_count": 31,
   "id": "bca4c619",
   "metadata": {},
   "outputs": [],
   "source": [
    "def get_train_valid_loader(data_dir,\n",
    "                           batch_size,\n",
    "                           random_seed,\n",
    "                           augment=False,\n",
    "                           valid_size=0.2,\n",
    "                           shuffle=True,\n",
    "                           show_sample=False,\n",
    "                           num_workers=1,\n",
    "                           pin_memory=True):\n",
    "    \"\"\"\n",
    "    ------\n",
    "    - data_dir: path directory to the dataset.\n",
    "    - batch_size: how many samples per batch to load.\n",
    "    - augment: whether to apply the data augmentation scheme\n",
    "      mentioned in the paper. Only applied on the train split.\n",
    "    - random_seed: fix seed for reproducibility.\n",
    "    - valid_size: percentage split of the training set used for\n",
    "      the validation set. Should be a float in the range [0, 1].\n",
    "    - shuffle: whether to shuffle the train/validation indices.\n",
    "    - show_sample: plot 9x9 sample grid of the dataset.\n",
    "    - num_workers: number of subprocesses to use when loading the dataset.\n",
    "    - pin_memory: whether to copy tensors into CUDA pinned memory. Set it to\n",
    "      True if using GPU.\n",
    "    Returns\n",
    "    -------\n",
    "    - train_loader: training set iterator.\n",
    "    - valid_loader: validation set iterator.\n",
    "    \"\"\"\n",
    "    error_msg = \"[!] valid_size should be in the range [0, 1].\"\n",
    "    assert ((valid_size >= 0) and (valid_size <= 1)), error_msg\n",
    "\n",
    "    normalize = transforms.Normalize((0.1307,), (0.3081,))  # MNIST\n",
    "\n",
    "    # define transforms\n",
    "    valid_transform = transforms.Compose([\n",
    "            transforms.Resize((28,28)),\n",
    "            transforms.ToTensor(),\n",
    "            normalize\n",
    "        ])\n",
    "    if augment:\n",
    "        train_transform = transforms.Compose([\n",
    "            transforms.RandomCrop(32, padding=4),\n",
    "            transforms.RandomHorizontalFlip(),\n",
    "            transforms.Resize((28,28)),\n",
    "            transforms.ToTensor(),\n",
    "            normalize\n",
    "        ])\n",
    "    else:\n",
    "        train_transform = transforms.Compose([\n",
    "            transforms.Resize((28,28)),\n",
    "            transforms.ToTensor(),\n",
    "            normalize\n",
    "        ])\n",
    "    \n",
    "    \n",
    "    train_dataset = datasets.ImageFolder(root=data_dir,transform=train_transform)\n",
    "    valid_dataset = datasets.ImageFolder(root=data_dir,transform=valid_transform)\n",
    "\n",
    "    \n",
    "    # load the dataset\n",
    "#     train_dataset = datasets.MNIST(root=data_dir, train=True, \n",
    "#                 download=True, transform=train_transform)\n",
    "\n",
    "#     valid_dataset = datasets.MNIST(root=data_dir, train=True, \n",
    "#                 download=True, transform=valid_transform)\n",
    "\n",
    "    num_train = len(train_dataset)\n",
    "    indices = list(range(num_train))\n",
    "    split = int(np.floor(valid_size * num_train))\n",
    "\n",
    "    if shuffle == True:\n",
    "        np.random.seed(random_seed)\n",
    "        np.random.shuffle(indices)\n",
    "\n",
    "    train_idx, valid_idx = indices[split:], indices[:split]\n",
    "\n",
    "    train_sampler = SubsetRandomSampler(train_idx)\n",
    "    valid_sampler = SubsetRandomSampler(valid_idx)\n",
    "    \n",
    "\n",
    "    train_loader = torch.utils.data.DataLoader(train_dataset, \n",
    "                    batch_size=batch_size, sampler=train_sampler, \n",
    "                    num_workers=num_workers, pin_memory=pin_memory)\n",
    "\n",
    "    valid_loader = torch.utils.data.DataLoader(valid_dataset, \n",
    "                    batch_size=batch_size, sampler=valid_sampler, \n",
    "                    num_workers=num_workers, pin_memory=pin_memory)\n",
    "\n",
    "\n",
    "    # visualize some images\n",
    "    if show_sample:\n",
    "        sample_loader = torch.utils.data.DataLoader(train_dataset, \n",
    "                                                    batch_size=9, \n",
    "                                                    shuffle=shuffle, \n",
    "                                                    num_workers=num_workers,\n",
    "                                                    pin_memory=pin_memory)\n",
    "        data_iter = iter(sample_loader)\n",
    "        images, labels = data_iter.next()\n",
    "        X = images.numpy()\n",
    "        plot_images(X, labels)\n",
    "\n",
    "    return (train_loader, valid_loader)"
   ]
  },
  {
   "cell_type": "code",
   "execution_count": 32,
   "id": "5674f886",
   "metadata": {},
   "outputs": [],
   "source": [
    "def get_test_loader(data_dir, \n",
    "                    batch_size,\n",
    "                    shuffle=True,\n",
    "                    num_workers=1,\n",
    "                    pin_memory=True):\n",
    "    \"\"\"\n",
    "    Utility function for loading and returning a multi-process \n",
    "    test iterator over the MNIST dataset.\n",
    "    If using CUDA, num_workers should be set to 1 and pin_memory to True.\n",
    "    Params\n",
    "    ------\n",
    "    - data_dir: path directory to the dataset.\n",
    "    - batch_size: how many samples per batch to load.\n",
    "    - shuffle: whether to shuffle the dataset after every epoch.\n",
    "    - num_workers: number of subprocesses to use when loading the dataset.\n",
    "    - pin_memory: whether to copy tensors into CUDA pinned memory. Set it to\n",
    "      True if using GPU.\n",
    "    Returns\n",
    "    -------\n",
    "    - data_loader: test set iterator.\n",
    "    \"\"\"\n",
    "    normalize = transforms.Normalize((0.1307,), (0.3081,))  # MNIST\n",
    "\n",
    "    # define transform\n",
    "    transform = transforms.Compose([\n",
    "        transforms.Resize((28,28)),\n",
    "        transforms.ToTensor(),\n",
    "        normalize\n",
    "    ])\n",
    "\n",
    "    dataset = datasets.ImageFolder(data_dir,transform=transform)\n",
    "    \n",
    "    \n",
    "#     dataset = datasets.MNIST(root=data_dir, \n",
    "#                                train=False, \n",
    "#                                download=True,\n",
    "#                                transform=transform)\n",
    "\n",
    "    data_loader = torch.utils.data.DataLoader(dataset, \n",
    "                                              batch_size=batch_size, \n",
    "                                              shuffle=shuffle, \n",
    "                                              num_workers=num_workers,\n",
    "                                              pin_memory=pin_memory)\n",
    "\n",
    "    return data_loader"
   ]
  },
  {
   "cell_type": "code",
   "execution_count": 33,
   "id": "7a031913",
   "metadata": {
    "scrolled": true
   },
   "outputs": [],
   "source": [
    "train_loader, valid_loader = get_train_valid_loader('mnist-varres/train/',\n",
    "                           batch_size = 16,\n",
    "                           random_seed = 100,\n",
    "                           augment=False,\n",
    "                           valid_size=1/6,\n",
    "                           shuffle=True,\n",
    "                           show_sample=False,\n",
    "                           num_workers=1,\n",
    "                           pin_memory=True)"
   ]
  },
  {
   "cell_type": "code",
   "execution_count": 34,
   "id": "9ec6cb09",
   "metadata": {},
   "outputs": [],
   "source": [
    "test_loader = get_test_loader('mnist-varres/test/', \n",
    "                    batch_size=10,\n",
    "                    shuffle=True,\n",
    "                    num_workers=1,\n",
    "                    pin_memory=True)"
   ]
  },
  {
   "cell_type": "code",
   "execution_count": 35,
   "id": "2f5baf18",
   "metadata": {},
   "outputs": [],
   "source": [
    "loaders = {'train': train_loader,\n",
    "          'test': test_loader,\n",
    "          'val': valid_loader} "
   ]
  },
  {
   "cell_type": "code",
   "execution_count": 36,
   "id": "d542783f",
   "metadata": {},
   "outputs": [],
   "source": [
    "import torch.nn as nn\n",
    "import torch.nn.functional as F"
   ]
  },
  {
   "cell_type": "code",
   "execution_count": 37,
   "id": "fb018419",
   "metadata": {},
   "outputs": [],
   "source": [
    "class CNN(nn.Module):\n",
    "    def __init__(self):\n",
    "        super(CNN, self).__init__()\n",
    "        #\n",
    "        self.conv1 = nn.Sequential(nn.Conv2d(in_channels=3, out_channels=16, kernel_size=3, stride=1, padding=1),\n",
    "                                   nn.ReLU(),\n",
    "                                   nn.MaxPool2d(kernel_size=2),\n",
    "                                  )\n",
    "        self.conv2 = nn.Sequential(nn.Conv2d(16, 32, 3, 1, 1),\n",
    "                                  nn.ReLU(),\n",
    "                                  nn.MaxPool2d(kernel_size=2),\n",
    "                                  )\n",
    "        self.conv3 = nn.Sequential(nn.Conv2d(32, 64, 3, 1, 1),\n",
    "                                  nn.ReLU(),\n",
    "                                  nn.MaxPool2d(kernel_size=2),\n",
    "                                  )\n",
    "        self.out = nn.Linear(64*3*3, 10)\n",
    "        \n",
    "    def forward(self, x):\n",
    "        x = self.conv1(x)\n",
    "        x = self.conv2(x)\n",
    "        x = self.conv3(x)\n",
    "        \n",
    "        x = torch.flatten(x, 1)\n",
    "        x = self.out(x)\n",
    "        \n",
    "        return x"
   ]
  },
  {
   "cell_type": "code",
   "execution_count": 38,
   "id": "f6a49fff",
   "metadata": {},
   "outputs": [
    {
     "data": {
      "text/plain": [
       "CNN(\n",
       "  (conv1): Sequential(\n",
       "    (0): Conv2d(3, 16, kernel_size=(3, 3), stride=(1, 1), padding=(1, 1))\n",
       "    (1): ReLU()\n",
       "    (2): MaxPool2d(kernel_size=2, stride=2, padding=0, dilation=1, ceil_mode=False)\n",
       "  )\n",
       "  (conv2): Sequential(\n",
       "    (0): Conv2d(16, 32, kernel_size=(3, 3), stride=(1, 1), padding=(1, 1))\n",
       "    (1): ReLU()\n",
       "    (2): MaxPool2d(kernel_size=2, stride=2, padding=0, dilation=1, ceil_mode=False)\n",
       "  )\n",
       "  (conv3): Sequential(\n",
       "    (0): Conv2d(32, 64, kernel_size=(3, 3), stride=(1, 1), padding=(1, 1))\n",
       "    (1): ReLU()\n",
       "    (2): MaxPool2d(kernel_size=2, stride=2, padding=0, dilation=1, ceil_mode=False)\n",
       "  )\n",
       "  (out): Linear(in_features=576, out_features=10, bias=True)\n",
       ")"
      ]
     },
     "execution_count": 38,
     "metadata": {},
     "output_type": "execute_result"
    }
   ],
   "source": [
    "cnn = CNN()\n",
    "cnn"
   ]
  },
  {
   "cell_type": "code",
   "execution_count": 39,
   "id": "31ae31eb",
   "metadata": {},
   "outputs": [
    {
     "name": "stdout",
     "output_type": "stream",
     "text": [
      "8\n",
      "torch.Size([16, 3, 3, 3])\n"
     ]
    }
   ],
   "source": [
    "params = list(cnn.parameters())\n",
    "print(len(params))\n",
    "print(params[0].size()) "
   ]
  },
  {
   "cell_type": "code",
   "execution_count": 40,
   "id": "c1eb0997",
   "metadata": {},
   "outputs": [
    {
     "name": "stdout",
     "output_type": "stream",
     "text": [
      "tensor([[ 0.0495, -0.2162,  0.0452, -0.0153,  0.0752, -0.0638, -0.0566,  0.1429,\n",
      "         -0.0924, -0.0752]], grad_fn=<AddmmBackward0>)\n"
     ]
    }
   ],
   "source": [
    "input = torch.randn(1, 3, 28,28)\n",
    "out = cnn(input)\n",
    "print(out)"
   ]
  },
  {
   "cell_type": "markdown",
   "id": "baece28d",
   "metadata": {},
   "source": [
    "### Loss Function and Optimizer"
   ]
  },
  {
   "cell_type": "code",
   "execution_count": 41,
   "id": "6710e40b",
   "metadata": {},
   "outputs": [],
   "source": [
    "import torch.optim as optim\n",
    "\n",
    "criterion = nn.CrossEntropyLoss()\n",
    "optimizer = optim.Adam(cnn.parameters(), lr=0.0001)"
   ]
  },
  {
   "cell_type": "code",
   "execution_count": 42,
   "id": "4f78c94d",
   "metadata": {},
   "outputs": [],
   "source": [
    "from torch.autograd import Variable\n",
    "# num_epochs = 10"
   ]
  },
  {
   "cell_type": "code",
   "execution_count": 43,
   "id": "a97b2d7c",
   "metadata": {},
   "outputs": [
    {
     "data": {
      "text/plain": [
       "Adam (\n",
       "Parameter Group 0\n",
       "    amsgrad: False\n",
       "    betas: (0.9, 0.999)\n",
       "    capturable: False\n",
       "    differentiable: False\n",
       "    eps: 1e-08\n",
       "    foreach: None\n",
       "    fused: False\n",
       "    lr: 0.0001\n",
       "    maximize: False\n",
       "    weight_decay: 0\n",
       ")"
      ]
     },
     "execution_count": 43,
     "metadata": {},
     "output_type": "execute_result"
    }
   ],
   "source": [
    "optimizer"
   ]
  },
  {
   "cell_type": "code",
   "execution_count": 44,
   "id": "4e48f1c1",
   "metadata": {
    "scrolled": true
   },
   "outputs": [
    {
     "name": "stdout",
     "output_type": "stream",
     "text": [
      "Epoch [1/5], Step [1000/3125], Loss: 1.1880\n",
      "Epoch [1/5], Step [2000/3125], Loss: 0.9013\n",
      "Epoch [1/5], Step [3000/3125], Loss: 0.3813\n",
      "Epoch [2/5], Step [1000/3125], Loss: 0.1807\n",
      "Epoch [2/5], Step [2000/3125], Loss: 0.4997\n",
      "Epoch [2/5], Step [3000/3125], Loss: 0.2639\n",
      "Epoch [3/5], Step [1000/3125], Loss: 0.4082\n",
      "Epoch [3/5], Step [2000/3125], Loss: 0.3800\n",
      "Epoch [3/5], Step [3000/3125], Loss: 0.2256\n",
      "Epoch [4/5], Step [1000/3125], Loss: 0.0583\n",
      "Epoch [4/5], Step [2000/3125], Loss: 0.2845\n",
      "Epoch [4/5], Step [3000/3125], Loss: 0.2026\n",
      "Epoch [5/5], Step [1000/3125], Loss: 0.6125\n",
      "Epoch [5/5], Step [2000/3125], Loss: 0.1999\n",
      "Epoch [5/5], Step [3000/3125], Loss: 0.0825\n"
     ]
    }
   ],
   "source": [
    "from torch.autograd import Variable\n",
    "num_epochs = 5\n",
    "def train(num_epochs, cnn, loaders):\n",
    "    \n",
    "    cnn.train()\n",
    "        \n",
    "    # Train the model\n",
    "    total_step = len(loaders['train'])\n",
    "        \n",
    "    for epoch in range(num_epochs):\n",
    "        for i, (images, labels) in enumerate(loaders['train']):\n",
    "               \n",
    "            outputs = cnn(images)              \n",
    "            loss = criterion(outputs, labels)\n",
    "            \n",
    "            # clear gradients for this training step   \n",
    "            optimizer.zero_grad()           \n",
    "            # backpropagation, compute gradients \n",
    "            loss.backward()    \n",
    "            # apply gradients             \n",
    "            optimizer.step()                \n",
    "            \n",
    "            if (i+1) % 1000 == 0:\n",
    "                print ('Epoch [{}/{}], Step [{}/{}], Loss: {:.4f}' \n",
    "                       .format(epoch + 1, num_epochs, i + 1, total_step, loss.item()))\n",
    "                pass                   \n",
    "        pass    \n",
    "    pass\n",
    "train(num_epochs, cnn, loaders)"
   ]
  },
  {
   "cell_type": "code",
   "execution_count": null,
   "id": "e0a2c5f3",
   "metadata": {},
   "outputs": [],
   "source": [
    "correct = 0\n",
    "total = 0\n",
    "# since we're not training, we don't need to calculate the gradients for our outputs\n",
    "with torch.no_grad():\n",
    "    for data in test_loader:\n",
    "        images, labels = data\n",
    "        # calculate outputs by running images through the network\n",
    "        outputs = cnn(images)\n",
    "        # the class with the highest energy is what we choose as prediction\n",
    "        _, predicted = torch.max(outputs.data, 1)\n",
    "        total += labels.size(0)\n",
    "        correct += (predicted == labels).sum().item()\n",
    "\n",
    "print(f'Accuracy of the network on the 10000 test images: {100 * correct // total} %')"
   ]
  },
  {
   "cell_type": "code",
   "execution_count": 90,
   "id": "3db48a89",
   "metadata": {},
   "outputs": [
    {
     "name": "stdout",
     "output_type": "stream",
     "text": [
      "Accuracy of the network on the 10000 test images: 91 %\n"
     ]
    }
   ],
   "source": [
    "correct = 0\n",
    "total = 0\n",
    "# since we're not training, we don't need to calculate the gradients for our outputs\n",
    "with torch.no_grad():\n",
    "    for data in valid_loader:\n",
    "        images, labels = data\n",
    "        # calculate outputs by running images through the network\n",
    "        outputs = cnn(images)\n",
    "        # the class with the highest energy is what we choose as prediction\n",
    "        _, predicted = torch.max(outputs.data, 1)\n",
    "        total += labels.size(0)\n",
    "        correct += (predicted == labels).sum().item()\n",
    "\n",
    "print(f'Accuracy of the network on the 10000 test images: {100 * correct // total} %')"
   ]
  },
  {
   "cell_type": "markdown",
   "id": "335e2ef6",
   "metadata": {},
   "source": []
  },
  {
   "cell_type": "code",
   "execution_count": null,
   "id": "7b15a5ed",
   "metadata": {},
   "outputs": [],
   "source": []
  }
 ],
 "metadata": {
  "kernelspec": {
   "display_name": "Python 3 (ipykernel)",
   "language": "python",
   "name": "python3"
  },
  "language_info": {
   "codemirror_mode": {
    "name": "ipython",
    "version": 3
   },
   "file_extension": ".py",
   "mimetype": "text/x-python",
   "name": "python",
   "nbconvert_exporter": "python",
   "pygments_lexer": "ipython3",
   "version": "3.9.12"
  }
 },
 "nbformat": 4,
 "nbformat_minor": 5
}
